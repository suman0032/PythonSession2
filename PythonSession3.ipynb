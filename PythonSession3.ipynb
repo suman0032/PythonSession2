{
 "cells": [
  {
   "cell_type": "code",
   "execution_count": 11,
   "metadata": {},
   "outputs": [
    {
     "name": "stdout",
     "output_type": "stream",
     "text": [
      "enter comma separated integers :1,2,3,4\n"
     ]
    },
    {
     "data": {
      "text/plain": [
       "['1', '2', '3', '4']"
      ]
     },
     "execution_count": 11,
     "metadata": {},
     "output_type": "execute_result"
    }
   ],
   "source": [
    "x=input('enter comma separated integers :')\n",
    "x.split(',')"
   ]
  },
  {
   "cell_type": "code",
   "execution_count": 16,
   "metadata": {},
   "outputs": [
    {
     "name": "stdout",
     "output_type": "stream",
     "text": [
      "*\n",
      "\n",
      "**\n",
      "\n",
      "***\n",
      "\n",
      "****\n",
      "\n",
      "*****\n",
      "\n",
      "****\n",
      "\n",
      "***\n",
      "\n",
      "**\n",
      "\n",
      "*\n",
      "\n",
      "\n",
      "\n"
     ]
    }
   ],
   "source": [
    "x=5\n",
    "p=0\n",
    "l=[]\n",
    "while x>0:\n",
    "    p=p+1\n",
    "    if (p<=5):\n",
    "        l.append(p)\n",
    "    if (p>5):\n",
    "        x=x-1\n",
    "        l.append(x)\n",
    "for i in l:\n",
    "    k=0\n",
    "    while k<i:\n",
    "        print('*',end='')\n",
    "        k=k+1\n",
    "    print('\\n')"
   ]
  },
  {
   "cell_type": "code",
   "execution_count": 25,
   "metadata": {},
   "outputs": [
    {
     "name": "stdout",
     "output_type": "stream",
     "text": [
      "Input word: AcadGild\n",
      "Output word: dliGdacA\n"
     ]
    }
   ],
   "source": [
    "x=input('Input word: ')\n",
    "print('Output word: {}'.format(x[::-1]))"
   ]
  },
  {
   "cell_type": "code",
   "execution_count": 27,
   "metadata": {},
   "outputs": [
    {
     "name": "stdout",
     "output_type": "stream",
     "text": [
      "WE, THE PEOPLE OF INDIA, \n",
      "                        having solemnly resolved to constitute India into a SOVEREIGN, !\n",
      "                              SOCIALIST, SECULAR, DEMOCRATIC REPUBLIC \n",
      "                              and to secure to all its citizens\n"
     ]
    }
   ],
   "source": [
    "x='''WE, THE PEOPLE OF INDIA, \n",
    "                        having solemnly resolved to constitute India into a SOVEREIGN, !\n",
    "                              SOCIALIST, SECULAR, DEMOCRATIC REPUBLIC \n",
    "                              and to secure to all its citizens'''\n",
    "print(x)"
   ]
  }
 ],
 "metadata": {
  "kernelspec": {
   "display_name": "Python 3",
   "language": "python",
   "name": "python3"
  },
  "language_info": {
   "codemirror_mode": {
    "name": "ipython",
    "version": 3
   },
   "file_extension": ".py",
   "mimetype": "text/x-python",
   "name": "python",
   "nbconvert_exporter": "python",
   "pygments_lexer": "ipython3",
   "version": "3.6.5"
  }
 },
 "nbformat": 4,
 "nbformat_minor": 2
}
